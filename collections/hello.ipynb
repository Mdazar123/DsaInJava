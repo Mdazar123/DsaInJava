{
 "cells": [
  {
   "cell_type": "code",
   "execution_count": null,
   "metadata": {},
   "outputs": [],
   "source": [
    "import pandas as pd\n",
    "from sklearn.tree import DecisionTreeClassifier\n",
    "from sklearn.model_selection import train_test_split\n",
    "# Load the dataset\n",
    "data = pd.read_csv('car.csv')\n",
    "# Split the dataset into training and testing sets\n",
    "X_train,\n",
    "X_test,\n",
    "y_train,\n",
    "y_test\n",
    "=\n",
    "'CreditScore']], data['BuysCar'], test_size=0.2)\n",
    "12\n",
    "train_test_split(data[['Age',\n",
    "'Income',# Create a decision tree model and fit it to the training data\n",
    "model = DecisionTreeClassifier()\n",
    "model.fit(X_train, y_train)\n",
    "# Predict the labels for the testing data\n",
    "y_pred = model.predict(X_test)\n",
    "# Evaluate the model's accuracy\n",
    "accuracy = model.score(X_test, y_test)\n",
    "print('Accuracy:', accuracy)\n"
   ]
  }
 ],
 "metadata": {
  "language_info": {
   "name": "python"
  }
 },
 "nbformat": 4,
 "nbformat_minor": 2
}
